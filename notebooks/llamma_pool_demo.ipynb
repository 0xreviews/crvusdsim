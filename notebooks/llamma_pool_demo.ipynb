{
 "cells": [
  {
   "cell_type": "code",
   "execution_count": 1,
   "metadata": {},
   "outputs": [],
   "source": [
    "import sys\n",
    "sys.path.insert(0, \"..\")\n",
    "import crvusdsim"
   ]
  },
  {
   "cell_type": "code",
   "execution_count": 2,
   "metadata": {},
   "outputs": [],
   "source": [
    "market_name = \"wstETH\"\n",
    "(\n",
    "    pool,\n",
    "    controller,\n",
    "    collateral_token,\n",
    "    stablecoin,\n",
    "    aggregator,\n",
    "    stableswap_pools,\n",
    "    peg_keepers,\n",
    "    policy,\n",
    "    factory,\n",
    ") = crvusdsim.pool.get(market_name, bands_data=\"controller\")"
   ]
  },
  {
   "cell_type": "code",
   "execution_count": 3,
   "metadata": {},
   "outputs": [
    {
     "data": {
      "text/plain": [
       "'Curve.fi Stablecoin wstETH'"
      ]
     },
     "execution_count": 3,
     "metadata": {},
     "output_type": "execute_result"
    }
   ],
   "source": [
    "pool.name"
   ]
  },
  {
   "cell_type": "code",
   "execution_count": 4,
   "metadata": {},
   "outputs": [
    {
     "data": {
      "text/plain": [
       "['wstETH', 'crvUSD']"
      ]
     },
     "execution_count": 4,
     "metadata": {},
     "output_type": "execute_result"
    }
   ],
   "source": [
    "pool.coin_names"
   ]
  },
  {
   "cell_type": "code",
   "execution_count": 5,
   "metadata": {},
   "outputs": [
    {
     "data": {
      "text/plain": [
       "[18, 18]"
      ]
     },
     "execution_count": 5,
     "metadata": {},
     "output_type": "execute_result"
    }
   ],
   "source": [
    "pool.coin_decimals"
   ]
  },
  {
   "cell_type": "code",
   "execution_count": 6,
   "metadata": {},
   "outputs": [
    {
     "data": {
      "text/plain": [
       "100"
      ]
     },
     "execution_count": 6,
     "metadata": {},
     "output_type": "execute_result"
    }
   ],
   "source": [
    "pool.A"
   ]
  },
  {
   "cell_type": "code",
   "execution_count": 7,
   "metadata": {},
   "outputs": [
    {
     "data": {
      "text/plain": [
       "0"
      ]
     },
     "execution_count": 7,
     "metadata": {},
     "output_type": "execute_result"
    }
   ],
   "source": [
    "sum(pool.bands_x.values())"
   ]
  },
  {
   "cell_type": "code",
   "execution_count": 8,
   "metadata": {},
   "outputs": [
    {
     "data": {
      "text/plain": [
       "41001650652306787770368"
      ]
     },
     "execution_count": 8,
     "metadata": {},
     "output_type": "execute_result"
    }
   ],
   "source": [
    "sum(pool.bands_y.values())"
   ]
  },
  {
   "cell_type": "code",
   "execution_count": 9,
   "metadata": {},
   "outputs": [
    {
     "data": {
      "text/plain": [
       "dict_keys(['0x9c5083dd4838e120dbeac44c052179692aa5dac5', '0x425d16b0e08a28a3ff9e4404ae99d78c0a076c5a', '0x67e5dbe8b910b307adfee1c119c63f417101300b', '0x0d59d4e24731c7304baefd9360ec9669764be28a', '0x294125ebe0a93815a68e0165935c521275e2dc1e', '0x39153be9d5b22a2d52ae958911cc5a1cdc135c6b', '0xf89501b77b2fa6329f94f5a05fe84cebb5c8b1a0', '0x9cbf099ff424979439dfba03f00b5961784c06ce', '0x2761a575cf6ea58d9d59426f1733df573d92cf36', '0x975793c7a6a077221aca4e4fb9b7f9a46378463a', '0xd2b2a8ab7a8c903501f4db4ee45c67522a4511ed', '0x18c0756657e616bd865835d7f7d08e121ab46af8', '0x4f0a01badaa24f762cee620883f16c4460c06be0', '0xaf0fdd39e5d92499b0ed9f68693da99c0ec1e92e', '0xdfa8ee9ff8798b37800f3ab18807273d7caaf1b6', '0x80e6c4918ce508c08f7e4298f64464044cf79db7', '0x5a40ab806a038afe9c4ef413d36b6356a5e4d2c5', '0xac0168b4fd7427bfd616e3a47fc05dd8175d5b64', '0x6446bf0d2ce9bb54cd75ea52914be0d1065f4b86', '0x80c390f22e40e72daa073f1310adb35430f11417', '0x488b99c4a94bb0027791e8e0eeb421187ec9a487', '0x823dafe1fcdd9e36387afb542497e837c85b50f4', '0x7a16ff8270133f063aab6c9977183d9e72835428', '0x87a29aad66cf785a1ae295b51738e67e5166fd6a', '0x23cef0b3fa3f1754f6f32cc113acdd639edea8ed', '0x51129076a523b041f85b5a73b1d8522c6230034a', '0xa066eb53ba93c09564501cc712cbee4797ea035c', '0x07ff87d3a7a1ef3e096a05ac498ef45ea6991b78', '0xae559b5835c4f79f6bddb64b04a7f651725a097d', '0xe4f077bf767a57ae9aad77b0ab54cbde0bede65a', '0x8f688a91695f7d2a1e93e57cedcbf5c5202f617b', '0x96be3d4b507b11831bb5d3b8ad5e612262accab6', '0x153d9dd730083e53615610a0d2f6f95ab5a0bc01', '0x024bcbcaad82e67f721799e259ca60bc7d363419', '0x5ed9d82097e21cfcdabe47b461f37727edf61b9d', '0xe057e6386047c690f6d2804ecd61e68441774bbc', '0x95f1872c2c63f54072bd42f68beee71e0d6f67d3', '0xba0212619febff76431a4826c957853b9f2cdf7f', '0x90cd03a2dc6bdbd6d24eeb69f3fdebaddd1459af', '0xd461b431ace219c5612800aeb5162e9316bb67d6', '0x2471ee5c959e89470827ce0e8269aa3031481d19', '0xf0c5ed4e9c62fd017681edc576cd5e0dcc5cab52', '0xfd81b27d9796a1ba7d7171ea70010c9befb2a62a', '0x32b487b44f4e7c6485209dbab4e985bea8dc0b06', '0x83271aaad634d7ada4eb3bec1396742f00637a95', '0x1fdaeb7a75ed8d495656efd41879263ab5e262ad', '0x4e76902faccd6feeef68ff0508a7caf75bce81b6', '0x10ba73fba107e61be1780d262173fc643a678f1c', '0x0630a92218b211644c9b83bce53e000c06c127aa', '0x92666f4518835f4b461b3931afa0cc5a4ac2a3e9', '0xc2f76d705aaf6b4706d305f2e58f1e2e2c3950e9', '0xed906fd42488885de1e647cf9c4f5e7dedaee8fc', '0xb0e83c2d71a991017e0116d58c5765abc57384af', '0x021daee385bd0acb6d72c05b03abc1bc81f64970', '0x95af5a5eedc1c1eca33a78229260a7c582a1b997', '0xa9214877410560b17560955ca84eabde4e30dcca', '0x31c2521d9ba567f0d27e7e9209733c13cc3a8ceb', '0xef1b32354c3d8a273331cd532d1576bb819b6e36', '0x4ee98b27eef58844e460922ec9da7c05d32f284a', '0x5d4a25205150b06649d3bba925a3181cb1360e37', '0xefa95d76e680da5ed457a2f6c46fdab25cc750c2', '0x2f6a2f4b3b0ffe7f5e5bd439e2152848bdc3cd65', '0x91831208ef824bbb986996312f2f0d92cca7bb90', '0xd907552e737663fdbae3444f3a89ef1df3bef7b2', '0x4beabbecd9404a7d7f91345d1d084b21ff8510f0', '0x17d7addb8b254b250671a7740e1ac84adb2b2b5e', '0xec876b9d81ed4a18f248f9c8d24306a72f1339fe', '0xbe433100eab05c2fcd541f3ad897aa73e0b4d6ab', '0x76f7af8bea6462b17367eabd3fef08238d815f84', '0x47705ab20b43d158df85026b4fe0ce7cfed1ecbd', '0x0594dea6ad7a6afb0657de956f7dc9039a96cbdf', '0xe2f1272e5f023b950b2283eb06c099cc17a2b4ad', '0x050e599297affca0dc1bdc03fa3cd6e97f5ff1b3', '0x9330afcb2f9d53883e565180bd5332e59efb4476', '0x5f55059a1bd5598053a2127d5f642ecd3a68eb3c', '0x79ad42161a55840d1327c39d7b47d12d6cc4c68a', '0xc0b9bb62c3e793fb63a1488ce1d2bbad5af25e42', '0x15739dd2f017ef743f2c3d7f9df1ee160ef3815d', '0x79d2a236aa643aaca706a56ff16c3a45b0f14c0c', '0x51764eab6672b3279f85428324dd64a3c2065d18', '0x097fe8778c03ad6ac6861ea4927a7eb42b7f78cf', '0xec4acd7c1d7e24bd47dbdef8b6d4ad117185863f', '0xec13dd82c25428a8697418d288b7f6ff7ecfebd7', '0x8952752889a333299af61d237fb0223f22ce9c04', '0x16fa6b8fcc2d5f459600713cf961e349067a278c', '0xe9e2aa87f02e92c33b7a4c705196c9218b11d2e5', '0x1e072c85b84deda7db0d24d8bb60a21e7ee7ddcd', '0x0a854bd5daa8d3959ac2b453e51ae4f2e5f6f4e0', '0x7cf9dbd72ffd36b1c9c154653c531fcfef4c7b2f', '0x07cae354a81c551797126f5356e6d022d7db373a', '0xc20c5374de884054455bfcd615538a9128a04534', '0x822ecbaf1abff1840f684044bc2dce9d1452dedb', '0x282fa3ff7c75fffcc1dd929f413d5ebc70af320d', '0x05025f9290b941478758523b1c06073cf30fc322', '0x41af995d070d076a99b5d12525f745c5bb96469e', '0xf7a6d93a31c7e7621528ea43d14386b98d5661be', '0x96d54acfdfbdf0475356ca2cac241111c1fecdf9', '0xadde229446e89121d8b62c047d56b26440b0001d', '0x79687736acd63dac12c2d31c04bbaf79b01973e5', '0xc2e2ffcfe35ed3f76ee8cf653629b28577759826'])"
      ]
     },
     "execution_count": 9,
     "metadata": {},
     "output_type": "execute_result"
    }
   ],
   "source": [
    "pool.user_shares.keys()"
   ]
  },
  {
   "cell_type": "code",
   "execution_count": 10,
   "metadata": {},
   "outputs": [
    {
     "data": {
      "text/plain": [
       "90000000000000000"
      ]
     },
     "execution_count": 10,
     "metadata": {},
     "output_type": "execute_result"
    }
   ],
   "source": [
    "controller.loan_discount"
   ]
  },
  {
   "cell_type": "code",
   "execution_count": 11,
   "metadata": {},
   "outputs": [
    {
     "data": {
      "text/plain": [
       "60000000000000000"
      ]
     },
     "execution_count": 11,
     "metadata": {},
     "output_type": "execute_result"
    }
   ],
   "source": [
    "controller.liquidation_discount"
   ]
  },
  {
   "cell_type": "code",
   "execution_count": 12,
   "metadata": {},
   "outputs": [
    {
     "data": {
      "text/plain": [
       "dict_keys(['0x9c5083dd4838e120dbeac44c052179692aa5dac5', '0x425d16b0e08a28a3ff9e4404ae99d78c0a076c5a', '0x67e5dbe8b910b307adfee1c119c63f417101300b', '0x0d59d4e24731c7304baefd9360ec9669764be28a', '0x294125ebe0a93815a68e0165935c521275e2dc1e', '0x39153be9d5b22a2d52ae958911cc5a1cdc135c6b', '0xf89501b77b2fa6329f94f5a05fe84cebb5c8b1a0', '0x9cbf099ff424979439dfba03f00b5961784c06ce', '0x2761a575cf6ea58d9d59426f1733df573d92cf36', '0x975793c7a6a077221aca4e4fb9b7f9a46378463a', '0xd2b2a8ab7a8c903501f4db4ee45c67522a4511ed', '0x18c0756657e616bd865835d7f7d08e121ab46af8', '0x4f0a01badaa24f762cee620883f16c4460c06be0', '0xaf0fdd39e5d92499b0ed9f68693da99c0ec1e92e', '0xdfa8ee9ff8798b37800f3ab18807273d7caaf1b6', '0x80e6c4918ce508c08f7e4298f64464044cf79db7', '0x5a40ab806a038afe9c4ef413d36b6356a5e4d2c5', '0xac0168b4fd7427bfd616e3a47fc05dd8175d5b64', '0x6446bf0d2ce9bb54cd75ea52914be0d1065f4b86', '0x80c390f22e40e72daa073f1310adb35430f11417', '0x488b99c4a94bb0027791e8e0eeb421187ec9a487', '0x823dafe1fcdd9e36387afb542497e837c85b50f4', '0x7a16ff8270133f063aab6c9977183d9e72835428', '0x87a29aad66cf785a1ae295b51738e67e5166fd6a', '0x23cef0b3fa3f1754f6f32cc113acdd639edea8ed', '0x51129076a523b041f85b5a73b1d8522c6230034a', '0xa066eb53ba93c09564501cc712cbee4797ea035c', '0x07ff87d3a7a1ef3e096a05ac498ef45ea6991b78', '0xae559b5835c4f79f6bddb64b04a7f651725a097d', '0xe4f077bf767a57ae9aad77b0ab54cbde0bede65a', '0x8f688a91695f7d2a1e93e57cedcbf5c5202f617b', '0x96be3d4b507b11831bb5d3b8ad5e612262accab6', '0x153d9dd730083e53615610a0d2f6f95ab5a0bc01', '0x024bcbcaad82e67f721799e259ca60bc7d363419', '0x5ed9d82097e21cfcdabe47b461f37727edf61b9d', '0xe057e6386047c690f6d2804ecd61e68441774bbc', '0x95f1872c2c63f54072bd42f68beee71e0d6f67d3', '0xba0212619febff76431a4826c957853b9f2cdf7f', '0x90cd03a2dc6bdbd6d24eeb69f3fdebaddd1459af', '0xd461b431ace219c5612800aeb5162e9316bb67d6', '0x2471ee5c959e89470827ce0e8269aa3031481d19', '0xf0c5ed4e9c62fd017681edc576cd5e0dcc5cab52', '0xfd81b27d9796a1ba7d7171ea70010c9befb2a62a', '0x32b487b44f4e7c6485209dbab4e985bea8dc0b06', '0x83271aaad634d7ada4eb3bec1396742f00637a95', '0x1fdaeb7a75ed8d495656efd41879263ab5e262ad', '0x4e76902faccd6feeef68ff0508a7caf75bce81b6', '0x10ba73fba107e61be1780d262173fc643a678f1c', '0x0630a92218b211644c9b83bce53e000c06c127aa', '0x92666f4518835f4b461b3931afa0cc5a4ac2a3e9', '0xc2f76d705aaf6b4706d305f2e58f1e2e2c3950e9', '0xed906fd42488885de1e647cf9c4f5e7dedaee8fc', '0xb0e83c2d71a991017e0116d58c5765abc57384af', '0x021daee385bd0acb6d72c05b03abc1bc81f64970', '0x95af5a5eedc1c1eca33a78229260a7c582a1b997', '0xa9214877410560b17560955ca84eabde4e30dcca', '0x31c2521d9ba567f0d27e7e9209733c13cc3a8ceb', '0xef1b32354c3d8a273331cd532d1576bb819b6e36', '0x4ee98b27eef58844e460922ec9da7c05d32f284a', '0x5d4a25205150b06649d3bba925a3181cb1360e37', '0xefa95d76e680da5ed457a2f6c46fdab25cc750c2', '0x2f6a2f4b3b0ffe7f5e5bd439e2152848bdc3cd65', '0x91831208ef824bbb986996312f2f0d92cca7bb90', '0xd907552e737663fdbae3444f3a89ef1df3bef7b2', '0x4beabbecd9404a7d7f91345d1d084b21ff8510f0', '0x17d7addb8b254b250671a7740e1ac84adb2b2b5e', '0xec876b9d81ed4a18f248f9c8d24306a72f1339fe', '0xbe433100eab05c2fcd541f3ad897aa73e0b4d6ab', '0x76f7af8bea6462b17367eabd3fef08238d815f84', '0x47705ab20b43d158df85026b4fe0ce7cfed1ecbd', '0x0594dea6ad7a6afb0657de956f7dc9039a96cbdf', '0xe2f1272e5f023b950b2283eb06c099cc17a2b4ad', '0x050e599297affca0dc1bdc03fa3cd6e97f5ff1b3', '0x9330afcb2f9d53883e565180bd5332e59efb4476', '0x5f55059a1bd5598053a2127d5f642ecd3a68eb3c', '0x79ad42161a55840d1327c39d7b47d12d6cc4c68a', '0xc0b9bb62c3e793fb63a1488ce1d2bbad5af25e42', '0x15739dd2f017ef743f2c3d7f9df1ee160ef3815d', '0x79d2a236aa643aaca706a56ff16c3a45b0f14c0c', '0x51764eab6672b3279f85428324dd64a3c2065d18', '0x097fe8778c03ad6ac6861ea4927a7eb42b7f78cf', '0xec4acd7c1d7e24bd47dbdef8b6d4ad117185863f', '0xec13dd82c25428a8697418d288b7f6ff7ecfebd7', '0x8952752889a333299af61d237fb0223f22ce9c04', '0x16fa6b8fcc2d5f459600713cf961e349067a278c', '0xe9e2aa87f02e92c33b7a4c705196c9218b11d2e5', '0x1e072c85b84deda7db0d24d8bb60a21e7ee7ddcd', '0x0a854bd5daa8d3959ac2b453e51ae4f2e5f6f4e0', '0x7cf9dbd72ffd36b1c9c154653c531fcfef4c7b2f', '0x07cae354a81c551797126f5356e6d022d7db373a', '0xc20c5374de884054455bfcd615538a9128a04534', '0x822ecbaf1abff1840f684044bc2dce9d1452dedb', '0x282fa3ff7c75fffcc1dd929f413d5ebc70af320d', '0x05025f9290b941478758523b1c06073cf30fc322', '0x41af995d070d076a99b5d12525f745c5bb96469e', '0xf7a6d93a31c7e7621528ea43d14386b98d5661be', '0x96d54acfdfbdf0475356ca2cac241111c1fecdf9', '0xadde229446e89121d8b62c047d56b26440b0001d', '0x79687736acd63dac12c2d31c04bbaf79b01973e5', '0xc2e2ffcfe35ed3f76ee8cf653629b28577759826'])"
      ]
     },
     "execution_count": 12,
     "metadata": {},
     "output_type": "execute_result"
    }
   ],
   "source": [
    "controller.loan.keys()"
   ]
  },
  {
   "cell_type": "code",
   "execution_count": 13,
   "metadata": {},
   "outputs": [
    {
     "data": {
      "text/plain": [
       "188073864752661357582614528"
      ]
     },
     "execution_count": 13,
     "metadata": {},
     "output_type": "execute_result"
    }
   ],
   "source": [
    "controller.minted"
   ]
  },
  {
   "cell_type": "code",
   "execution_count": 14,
   "metadata": {},
   "outputs": [
    {
     "data": {
      "text/plain": [
       "134177535544387757525696512"
      ]
     },
     "execution_count": 14,
     "metadata": {},
     "output_type": "execute_result"
    }
   ],
   "source": [
    "controller.redeemed"
   ]
  },
  {
   "cell_type": "code",
   "execution_count": null,
   "metadata": {},
   "outputs": [],
   "source": []
  }
 ],
 "metadata": {
  "kernelspec": {
   "display_name": "crvusdsim-pUi1XxWR-py3.10",
   "language": "python",
   "name": "python3"
  },
  "language_info": {
   "codemirror_mode": {
    "name": "ipython",
    "version": 3
   },
   "file_extension": ".py",
   "mimetype": "text/x-python",
   "name": "python",
   "nbconvert_exporter": "python",
   "pygments_lexer": "ipython3",
   "version": "3.10.10"
  },
  "orig_nbformat": 4
 },
 "nbformat": 4,
 "nbformat_minor": 2
}
